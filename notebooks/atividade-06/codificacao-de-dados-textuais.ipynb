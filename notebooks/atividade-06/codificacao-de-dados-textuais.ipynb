{
 "cells": [
  {
   "cell_type": "markdown",
   "id": "ab735a20-5096-4e30-9560-b7f3bc39d778",
   "metadata": {},
   "source": [
    "# Codificação de variáveis textuais"
   ]
  },
  {
   "cell_type": "markdown",
   "id": "764477e6-835c-4122-a8fc-dfb398a0ac48",
   "metadata": {},
   "source": [
    "### 1 - Por que fazer a codificação de variáveis textuais ?"
   ]
  },
  {
   "cell_type": "markdown",
   "id": "7a8e9f22-2fec-4a4b-b520-63760dd2ef3c",
   "metadata": {},
   "source": [
    "##### Variáveis textuais são formatos dificeis de ser aplicado em modelos de machine learning, pois trabalham com dados estruturados e fixos. Desse modo é necessário fazer a transformação desses dados em informações numéricas. A maneira mais comum de se fazer isso é atraves de representações como \"bag-of-words\" e \"tf-idf\".\n"
   ]
  },
  {
   "cell_type": "markdown",
   "id": "55ee2013-e467-483c-a371-d50eedd02b63",
   "metadata": {},
   "source": [
    "### 1.1 - *Bag of Words (BoW)*"
   ]
  },
  {
   "cell_type": "markdown",
   "id": "b12951a6-ae18-4c2d-8bbe-0b5df421a9bf",
   "metadata": {},
   "source": [
    "##### O modelo transforma a ocrrência das palavras contidas no texto em vetor: dá um valor numérico único para cada palavra do documento. Então cada documento pode ser codificado como um vetor com o comprimento do vocabulário das palavras do texto. É chamado de \"bag of words\" porque qualquer informação sobre a ordem ou estrutura não é relevante. Somente a multiplicidade delas importa."
   ]
  },
  {
   "cell_type": "markdown",
   "id": "6df2dea5-3162-4dd9-96b3-26c68b141150",
   "metadata": {},
   "source": [
    "### 1.2 *Term Frequency-Inverse Document Frequency (TF-IDF)*"
   ]
  },
  {
   "cell_type": "markdown",
   "id": "e90fe816-75b1-4ce3-91da-53c2dbb69462",
   "metadata": {},
   "source": [
    "##### Uma das desvantagens do BoW é que um texto maior terá uma média de valores de contagens maior do que textos menores, mesmo tratnado-se do mesmo assunto. Para suprir essas e outras falhas, usa-se o TF-IDF. Ele consiste em multiplicar 2 métricas:\n",
    "- term frequency (tf) : pontuação da frequência das palavras no documento;\n",
    "- inverse document frequency (idf) : pontuação de quão raro o termo é em todo o texto;"
   ]
  },
  {
   "cell_type": "markdown",
   "id": "93169901-0ee1-4344-9d93-49916dd1c211",
   "metadata": {},
   "source": [
    "### 2 - Aplicação BoW"
   ]
  },
  {
   "cell_type": "markdown",
   "id": "bfdb8f2a-80b1-41cb-943a-dc810961ac85",
   "metadata": {},
   "source": [
    "#### Conjunto de dados"
   ]
  },
  {
   "cell_type": "code",
   "execution_count": 20,
   "id": "c2ffff1c-4b54-4483-af01-687bda1c1f0d",
   "metadata": {},
   "outputs": [
    {
     "name": "stdout",
     "output_type": "stream",
     "text": [
      "['john likes', 'likes to', 'to watch', 'watch movies', 'mary likes', 'likes movies', 'movies too']\n"
     ]
    }
   ],
   "source": [
    "frases = [\n",
    "          \"John likes\",\n",
    "          \"likes to\",\n",
    "          \"to watch\",\n",
    "          \"watch movies\",\n",
    "          \"Mary likes\",\n",
    "          \"likes movies\",\n",
    "          \"movies too\",\n",
    "          ]\n",
    "\n",
    "# Modifica o formato das letras dos elementos da lista para minúsculas\n",
    "frases = list(map(lambda x: x.lower(), frases))\n",
    "print (frases)"
   ]
  },
  {
   "cell_type": "markdown",
   "id": "b2a6388a-e02a-45b5-8a16-b2ef50716d93",
   "metadata": {},
   "source": [
    "#### Carregando biblioteca"
   ]
  },
  {
   "cell_type": "code",
   "execution_count": 21,
   "id": "d53a7941-2281-44a5-bcf9-97f9d8025562",
   "metadata": {},
   "outputs": [],
   "source": [
    "from sklearn.feature_extraction.text import CountVectorizer, TfidfTransformer\n"
   ]
  },
  {
   "cell_type": "code",
   "execution_count": 22,
   "id": "f0a4bc48-e019-4c01-9a41-5867f8cd3ce4",
   "metadata": {},
   "outputs": [
    {
     "name": "stdout",
     "output_type": "stream",
     "text": [
      "Vocabulário: {'john': 0, 'likes': 1, 'to': 4, 'watch': 6, 'movies': 3, 'mary': 2, 'too': 5} \n",
      "\n",
      "[[1 1 0 0 0 0 0]\n",
      " [0 1 0 0 1 0 0]\n",
      " [0 0 0 0 1 0 1]\n",
      " [0 0 0 1 0 0 1]\n",
      " [0 1 1 0 0 0 0]\n",
      " [0 1 0 1 0 0 0]\n",
      " [0 0 0 1 0 1 0]]\n"
     ]
    }
   ],
   "source": [
    "# Cria o vetorizador de dados\n",
    "vectorizer = CountVectorizer()\n",
    "\n",
    "# Aplica vetorizador de dados e gera a frequência dos termos\n",
    "vectorizer.fit(frases)\n",
    "\n",
    "# Imprime o vocabulário\n",
    "print ('Vocabulário:', vectorizer.vocabulary_, '\\n')\n",
    "\n",
    "# Aplicando transformador de matriz de frequência\n",
    "matrix = vectorizer.transform(frases)\n",
    "\n",
    "# Imprimindo a matriz binária\n",
    "print (matrix.toarray())"
   ]
  },
  {
   "cell_type": "markdown",
   "id": "7432176d-b22e-44f9-9c15-b455977a2c30",
   "metadata": {},
   "source": [
    "### 3 - Aplicação TF-IDF"
   ]
  },
  {
   "cell_type": "markdown",
   "id": "0a1a9d42-2d36-417d-9e4b-b68d091b3e38",
   "metadata": {},
   "source": [
    "#### Carregando biblioteca"
   ]
  },
  {
   "cell_type": "code",
   "execution_count": 23,
   "id": "c5d852e6-1363-4000-90c4-398f8fcb640a",
   "metadata": {},
   "outputs": [],
   "source": [
    "from sklearn.feature_extraction.text import TfidfVectorizer\n"
   ]
  },
  {
   "cell_type": "code",
   "execution_count": 24,
   "id": "7160f655-c204-42e6-adb4-660273f9f14b",
   "metadata": {},
   "outputs": [
    {
     "name": "stdout",
     "output_type": "stream",
     "text": [
      "TfidfVectorizer() \n",
      "\n",
      "Vocabulário: {'john': 0, 'likes': 1, 'to': 4, 'watch': 6, 'movies': 3, 'mary': 2, 'too': 5} \n",
      "\n",
      "IDF: [2.38629436 1.47000363 2.38629436 1.69314718 1.98082925 2.38629436\n",
      " 1.98082925] \n",
      "\n",
      "Shape: (7, 7) \n",
      "\n",
      "[[0.85141699 0.52448938 0.         0.         0.         0.\n",
      "  0.        ]\n",
      " [0.         0.59594003 0.         0.         0.80302894 0.\n",
      "  0.        ]\n",
      " [0.         0.         0.         0.         0.70710678 0.\n",
      "  0.70710678]\n",
      " [0.         0.         0.         0.64974959 0.         0.\n",
      "  0.76014832]\n",
      " [0.         0.52448938 0.85141699 0.         0.         0.\n",
      "  0.        ]\n",
      " [0.         0.65559486 0.         0.75511282 0.         0.\n",
      "  0.        ]\n",
      " [0.         0.         0.         0.57866699 0.         0.81556393\n",
      "  0.        ]]\n"
     ]
    }
   ],
   "source": [
    "# Instancia o objeto TF-IDF\n",
    "vectorizer = TfidfVectorizer()\n",
    "\n",
    "# Aplica vetorizador de dados\n",
    "print (vectorizer.fit(frases), '\\n')\n",
    "\n",
    "# Imprime o vocabulário e sua frequência\n",
    "print ('Vocabulário:', vectorizer.vocabulary_, '\\n')\n",
    "\n",
    "# Imprime o IDF - pontuação que cada palavra recebeu.\n",
    "#Quanto mais frequente a palavra, menos relevante ela é para o IDF.\n",
    "print ('IDF:', vectorizer.idf_, '\\n')\n",
    "\n",
    "# Aplicando transformador aos dados\n",
    "matrix = vectorizer.transform(frases)\n",
    "\n",
    "# Imprime a forma da matriz\n",
    "print ('Shape:', matrix.shape, '\\n')\n",
    "\n",
    "# Transformando em um array\n",
    "print (matrix.toarray())"
   ]
  }
 ],
 "metadata": {
  "kernelspec": {
   "display_name": "Python 3 (ipykernel)",
   "language": "python",
   "name": "python3"
  },
  "language_info": {
   "codemirror_mode": {
    "name": "ipython",
    "version": 3
   },
   "file_extension": ".py",
   "mimetype": "text/x-python",
   "name": "python",
   "nbconvert_exporter": "python",
   "pygments_lexer": "ipython3",
   "version": "3.8.10"
  }
 },
 "nbformat": 4,
 "nbformat_minor": 5
}
